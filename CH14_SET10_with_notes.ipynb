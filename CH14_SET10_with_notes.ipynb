{
  "nbformat": 4,
  "nbformat_minor": 0,
  "metadata": {
    "colab": {
      "name": "CH14_SET10_with_notes.ipynb",
      "provenance": [],
      "collapsed_sections": [],
      "authorship_tag": "ABX9TyM/1MFo/du07XRGkgu0SUiO",
      "include_colab_link": true
    },
    "kernelspec": {
      "name": "python3",
      "display_name": "Python 3"
    },
    "accelerator": "GPU"
  },
  "cells": [
    {
      "cell_type": "markdown",
      "metadata": {
        "id": "view-in-github",
        "colab_type": "text"
      },
      "source": [
        "<a href=\"https://colab.research.google.com/github/qamtam/Hands-on-machine-learning/blob/main/CH14_SET10_with_notes.ipynb\" target=\"_parent\"><img src=\"https://colab.research.google.com/assets/colab-badge.svg\" alt=\"Open In Colab\"/></a>"
      ]
    },
    {
      "cell_type": "code",
      "metadata": {
        "id": "b5ZCcgMk7wat"
      },
      "source": [
        "# Python ≥3.5 is required\n",
        "import sys\n",
        "assert sys.version_info >= (3, 5)\n",
        "\n",
        "# Scikit-Learn ≥0.20 is required\n",
        "import sklearn\n",
        "assert sklearn.__version__ >= \"0.20\"\n",
        "\n",
        "try:\n",
        "    # %tensorflow_version only exists in Colab.\n",
        "    %tensorflow_version 2.x\n",
        "    IS_COLAB = True\n",
        "except Exception:\n",
        "    IS_COLAB = False\n",
        "\n",
        "# TensorFlow ≥2.0 is required\n",
        "import tensorflow as tf\n",
        "from tensorflow import keras\n",
        "assert tf.__version__ >= \"2.0\"\n",
        "\n",
        "if not tf.config.list_physical_devices('GPU'):\n",
        "    print(\"No GPU was detected. CNNs can be very slow without a GPU.\")\n",
        "    if IS_COLAB:\n",
        "        print(\"Go to Runtime > Change runtime and select a GPU hardware accelerator.\")\n",
        "\n",
        "# Common imports\n",
        "import numpy as np\n",
        "import os\n",
        "\n",
        "# to make this notebook's output stable across runs\n",
        "np.random.seed(42)\n",
        "tf.random.set_seed(42)\n",
        "\n",
        "# To plot pretty figures\n",
        "%matplotlib inline\n",
        "import matplotlib as mpl\n",
        "import matplotlib.pyplot as plt\n",
        "mpl.rc('axes', labelsize=14)\n",
        "mpl.rc('xtick', labelsize=12)\n",
        "mpl.rc('ytick', labelsize=12)\n",
        "\n",
        "# Where to save the figures\n",
        "PROJECT_ROOT_DIR = \".\"\n",
        "CHAPTER_ID = \"cnn\"\n",
        "IMAGES_PATH = os.path.join(PROJECT_ROOT_DIR, \"images\", CHAPTER_ID)\n",
        "os.makedirs(IMAGES_PATH, exist_ok=True)\n",
        "\n",
        "def save_fig(fig_id, tight_layout=True, fig_extension=\"png\", resolution=300):\n",
        "    path = os.path.join(IMAGES_PATH, fig_id + \".\" + fig_extension)\n",
        "    print(\"Saving figure\", fig_id)\n",
        "    if tight_layout:\n",
        "        plt.tight_layout()\n",
        "    plt.savefig(path, format=fig_extension, dpi=resolution)"
      ],
      "execution_count": null,
      "outputs": []
    },
    {
      "cell_type": "code",
      "metadata": {
        "id": "OEKp-ZMB72j3"
      },
      "source": [
        "import numpy as np\n",
        "import pandas as pd\n",
        "from functools import partial"
      ],
      "execution_count": null,
      "outputs": []
    },
    {
      "cell_type": "code",
      "metadata": {
        "id": "Eeg-HVlF8GU_",
        "colab": {
          "base_uri": "https://localhost:8080/"
        },
        "outputId": "854006c0-11ef-41ff-ba6b-494cddff40c9"
      },
      "source": [
        "(X_train_full, y_train_full), (X_test, y_test) = keras.datasets.mnist.load_data()\n",
        "X_train_full = X_train_full / 255.\n",
        "X_test = X_test/255.\n",
        "X_train, X_valid = X_train_full[:-5000], X_train_full[-5000:]\n",
        "y_train, y_valid = y_train_full[:-5000], y_train_full[-5000:]\n"
      ],
      "execution_count": null,
      "outputs": [
        {
          "output_type": "stream",
          "text": [
            "Downloading data from https://storage.googleapis.com/tensorflow/tf-keras-datasets/mnist.npz\n",
            "11493376/11490434 [==============================] - 0s 0us/step\n"
          ],
          "name": "stdout"
        }
      ]
    },
    {
      "cell_type": "code",
      "metadata": {
        "id": "veLtIMRl8k8v",
        "colab": {
          "base_uri": "https://localhost:8080/"
        },
        "outputId": "6ae75476-abe7-4fd2-8c29-2a04e053e3be"
      },
      "source": [
        "X_test.shape\n",
        "#"
      ],
      "execution_count": null,
      "outputs": [
        {
          "output_type": "execute_result",
          "data": {
            "text/plain": [
              "(10000, 28, 28)"
            ]
          },
          "metadata": {
            "tags": []
          },
          "execution_count": 4
        }
      ]
    },
    {
      "cell_type": "code",
      "metadata": {
        "id": "kS3BofIk8sTG"
      },
      "source": [
        "\n",
        "X_train = X_train[..., np.newaxis]\n",
        "X_valid = X_valid[..., np.newaxis]\n",
        "X_test = X_test[..., np.newaxis]\n"
      ],
      "execution_count": null,
      "outputs": []
    },
    {
      "cell_type": "code",
      "metadata": {
        "id": "R5pm1J8j8wKM",
        "colab": {
          "base_uri": "https://localhost:8080/"
        },
        "outputId": "1ec9d16c-31c5-432a-f30c-90edfba91995"
      },
      "source": [
        "X_test.shape\n",
        "#to make a color layer \"visible\" to convolution layers"
      ],
      "execution_count": null,
      "outputs": [
        {
          "output_type": "execute_result",
          "data": {
            "text/plain": [
              "(10000, 28, 28, 1)"
            ]
          },
          "metadata": {
            "tags": []
          },
          "execution_count": 6
        }
      ]
    },
    {
      "cell_type": "code",
      "metadata": {
        "id": "QvEy6Uhl8xJx",
        "colab": {
          "base_uri": "https://localhost:8080/"
        },
        "outputId": "42bac42c-774f-4266-f44e-ae887ffb7693"
      },
      "source": [
        "keras.backend.clear_session()\n",
        "tf.random.set_seed(42)\n",
        "np.random.seed(42)\n",
        "from keras.layers import MaxPool2D, Flatten, Dropout, Conv2D, Dense, Input\n",
        "model = keras.models.Sequential([\n",
        "                                 Input(shape=(28,28,1)),\n",
        "                               # Normalization,\n",
        "                                 Conv2D(32, 5, padding=\"same\", activation=\"tanh\"),\n",
        "                                 Conv2D(64, 3,  padding=\"same\", activation=\"tanh\"),\n",
        "                                 MaxPool2D(),\n",
        "                                 Conv2D(128,2,  activation=\"tanh\", padding=\"same\"),\n",
        "                                 Conv2D(128,2,  activation=\"tanh\", padding=\"same\"),\n",
        "                                 MaxPool2D(),\n",
        "                                 Conv2D(256,2,  activation=\"relu\", padding=\"same\"),\n",
        "                                 MaxPool2D(),\n",
        "                                 Flatten(),\n",
        "                                 Dense(128, activation=\"selu\"),\n",
        "                                 Dropout(0.2),\n",
        "                                 Dense(64, activation=\"selu\"),\n",
        "                                 Dropout(0.4),\n",
        "                                 Dense(10, activation=\"softmax\")\n",
        "])\n",
        "\n",
        "from keras.preprocessing.image import ImageDataGenerator\n",
        "from keras.callbacks import ReduceLROnPlateau\n",
        "datagen = ImageDataGenerator(\n",
        "        featurewise_center=False,  # set input mean to 0 over the dataset\n",
        "        samplewise_center=False,  # set each sample mean to 0\n",
        "        featurewise_std_normalization=False,  # divide inputs by std of the dataset\n",
        "        samplewise_std_normalization=False,  # divide each input by its std\n",
        "        zca_whitening=False,  # apply ZCA whitening\n",
        "        rotation_range=10,  # randomly rotate images in the range (degrees, 0 to 180)\n",
        "        zoom_range = 0.1, # Randomly zoom image \n",
        "        width_shift_range=0.1,  # randomly shift images horizontally (fraction of total width)\n",
        "        height_shift_range=0.1,  # randomly shift images vertically (fraction of total height)\n",
        "        horizontal_flip=False,  # randomly flip images\n",
        "        vertical_flip=False)  # randomly flip images\n",
        "\n",
        "\n",
        "datagen.fit(X_train)\n",
        "learning_rate_reduction = ReduceLROnPlateau(monitor='val_acc', \n",
        "                                            patience=5, \n",
        "                                            verbose=1, \n",
        "                                            factor=0.5, \n",
        "                                            min_lr=0.00001)\n",
        "model = keras.models.Sequential()\n",
        "\n",
        "model.add(Conv2D(filters = 32, kernel_size = (5,5),padding = 'Same', \n",
        "                 activation ='relu', input_shape = (28,28,1)))\n",
        "model.add(Conv2D(filters = 32, kernel_size = (5,5),padding = 'Same', \n",
        "                 activation ='relu'))\n",
        "model.add(MaxPool2D(pool_size=(2,2)))\n",
        "model.add(Dropout(0.25))\n",
        "\n",
        "\n",
        "model.add(Conv2D(filters = 64, kernel_size = (3,3),padding = 'Same', \n",
        "                 activation ='relu'))\n",
        "model.add(Conv2D(filters = 64, kernel_size = (3,3),padding = 'Same', \n",
        "                 activation ='relu'))\n",
        "\n",
        "model.add(MaxPool2D(pool_size=(2,2), strides=(2,2)))\n",
        "model.add(Conv2D(filters = 256, kernel_size = 2,padding = 'Same', \n",
        "                 activation ='relu'))\n",
        "model.add(Conv2D(filters = 256, kernel_size = 2,padding = 'Same', \n",
        "                 activation ='relu'))\n",
        "\n",
        "model.add(MaxPool2D(pool_size=(2,2), strides=(2,2)))\n",
        "model.add(Dropout(0.25))\n",
        "ddddddsadas\n",
        "\n",
        "\n",
        "model.add(Flatten())\n",
        "model.add(Dense(256, activation = \"relu\"))\n",
        "model.add(Dropout(0.5))\n",
        "model.add(Dense(10, activation = \"softmax\"))\n",
        "\n",
        "model.compile(optimizer=\"nadam\", metrics=[\"accuracy\"], loss=\"sparse_categorical_crossentropy\")\n",
        "model.fit_generator(datagen.flow(X_train, y_train), epochs=30, validation_data=(X_valid, y_valid), callbacks=[learning_rate_reduction])\n",
        "model.evaluate(X_test, y_test)\n"
      ],
      "execution_count": null,
      "outputs": [
        {
          "output_type": "stream",
          "text": [
            "/usr/local/lib/python3.6/dist-packages/tensorflow/python/keras/engine/training.py:1844: UserWarning: `Model.fit_generator` is deprecated and will be removed in a future version. Please use `Model.fit`, which supports generators.\n",
            "  warnings.warn('`Model.fit_generator` is deprecated and '\n"
          ],
          "name": "stderr"
        },
        {
          "output_type": "stream",
          "text": [
            "Epoch 1/30\n",
            "1719/1719 [==============================] - 28s 11ms/step - loss: 0.5888 - accuracy: 0.8046 - val_loss: 0.0417 - val_accuracy: 0.9862\n",
            "WARNING:tensorflow:Learning rate reduction is conditioned on metric `val_acc` which is not available. Available metrics are: loss,accuracy,val_loss,val_accuracy,lr\n",
            "Epoch 2/30\n",
            "1719/1719 [==============================] - 19s 11ms/step - loss: 0.0921 - accuracy: 0.9730 - val_loss: 0.0543 - val_accuracy: 0.9834\n",
            "WARNING:tensorflow:Learning rate reduction is conditioned on metric `val_acc` which is not available. Available metrics are: loss,accuracy,val_loss,val_accuracy,lr\n",
            "Epoch 3/30\n",
            "1719/1719 [==============================] - 19s 11ms/step - loss: 0.0720 - accuracy: 0.9792 - val_loss: 0.0329 - val_accuracy: 0.9910\n",
            "WARNING:tensorflow:Learning rate reduction is conditioned on metric `val_acc` which is not available. Available metrics are: loss,accuracy,val_loss,val_accuracy,lr\n",
            "Epoch 4/30\n",
            "1719/1719 [==============================] - 19s 11ms/step - loss: 0.0681 - accuracy: 0.9803 - val_loss: 0.0302 - val_accuracy: 0.9932\n",
            "WARNING:tensorflow:Learning rate reduction is conditioned on metric `val_acc` which is not available. Available metrics are: loss,accuracy,val_loss,val_accuracy,lr\n",
            "Epoch 5/30\n",
            "1719/1719 [==============================] - 19s 11ms/step - loss: 0.0575 - accuracy: 0.9837 - val_loss: 0.0338 - val_accuracy: 0.9908\n",
            "WARNING:tensorflow:Learning rate reduction is conditioned on metric `val_acc` which is not available. Available metrics are: loss,accuracy,val_loss,val_accuracy,lr\n",
            "Epoch 6/30\n",
            "1719/1719 [==============================] - 19s 11ms/step - loss: 0.0590 - accuracy: 0.9835 - val_loss: 0.0365 - val_accuracy: 0.9912\n",
            "WARNING:tensorflow:Learning rate reduction is conditioned on metric `val_acc` which is not available. Available metrics are: loss,accuracy,val_loss,val_accuracy,lr\n",
            "Epoch 7/30\n",
            "1719/1719 [==============================] - 19s 11ms/step - loss: 0.0511 - accuracy: 0.9851 - val_loss: 0.0262 - val_accuracy: 0.9938\n",
            "WARNING:tensorflow:Learning rate reduction is conditioned on metric `val_acc` which is not available. Available metrics are: loss,accuracy,val_loss,val_accuracy,lr\n",
            "Epoch 8/30\n",
            "1719/1719 [==============================] - 19s 11ms/step - loss: 0.0507 - accuracy: 0.9858 - val_loss: 0.0369 - val_accuracy: 0.9914\n",
            "WARNING:tensorflow:Learning rate reduction is conditioned on metric `val_acc` which is not available. Available metrics are: loss,accuracy,val_loss,val_accuracy,lr\n",
            "Epoch 9/30\n",
            "1719/1719 [==============================] - 19s 11ms/step - loss: 0.0528 - accuracy: 0.9853 - val_loss: 0.0349 - val_accuracy: 0.9900\n",
            "WARNING:tensorflow:Learning rate reduction is conditioned on metric `val_acc` which is not available. Available metrics are: loss,accuracy,val_loss,val_accuracy,lr\n",
            "Epoch 10/30\n",
            "1719/1719 [==============================] - 19s 11ms/step - loss: 0.0497 - accuracy: 0.9859 - val_loss: 0.0294 - val_accuracy: 0.9938\n",
            "WARNING:tensorflow:Learning rate reduction is conditioned on metric `val_acc` which is not available. Available metrics are: loss,accuracy,val_loss,val_accuracy,lr\n",
            "Epoch 11/30\n",
            "1719/1719 [==============================] - 19s 11ms/step - loss: 0.0426 - accuracy: 0.9870 - val_loss: 0.0347 - val_accuracy: 0.9924\n",
            "WARNING:tensorflow:Learning rate reduction is conditioned on metric `val_acc` which is not available. Available metrics are: loss,accuracy,val_loss,val_accuracy,lr\n",
            "Epoch 12/30\n",
            "1719/1719 [==============================] - 19s 11ms/step - loss: 0.0499 - accuracy: 0.9867 - val_loss: 0.0339 - val_accuracy: 0.9928\n",
            "WARNING:tensorflow:Learning rate reduction is conditioned on metric `val_acc` which is not available. Available metrics are: loss,accuracy,val_loss,val_accuracy,lr\n",
            "Epoch 13/30\n",
            "1719/1719 [==============================] - 19s 11ms/step - loss: 0.0435 - accuracy: 0.9879 - val_loss: 0.0289 - val_accuracy: 0.9930\n",
            "WARNING:tensorflow:Learning rate reduction is conditioned on metric `val_acc` which is not available. Available metrics are: loss,accuracy,val_loss,val_accuracy,lr\n",
            "Epoch 14/30\n",
            "1719/1719 [==============================] - 19s 11ms/step - loss: 0.0450 - accuracy: 0.9879 - val_loss: 0.0295 - val_accuracy: 0.9940\n",
            "WARNING:tensorflow:Learning rate reduction is conditioned on metric `val_acc` which is not available. Available metrics are: loss,accuracy,val_loss,val_accuracy,lr\n",
            "Epoch 15/30\n",
            "1719/1719 [==============================] - 19s 11ms/step - loss: 0.0467 - accuracy: 0.9869 - val_loss: 0.0393 - val_accuracy: 0.9910\n",
            "WARNING:tensorflow:Learning rate reduction is conditioned on metric `val_acc` which is not available. Available metrics are: loss,accuracy,val_loss,val_accuracy,lr\n",
            "Epoch 16/30\n",
            "1719/1719 [==============================] - 19s 11ms/step - loss: 0.0448 - accuracy: 0.9873 - val_loss: 0.0320 - val_accuracy: 0.9916\n",
            "WARNING:tensorflow:Learning rate reduction is conditioned on metric `val_acc` which is not available. Available metrics are: loss,accuracy,val_loss,val_accuracy,lr\n",
            "Epoch 17/30\n",
            "1719/1719 [==============================] - 19s 11ms/step - loss: 0.0424 - accuracy: 0.9885 - val_loss: 0.0349 - val_accuracy: 0.9936\n",
            "WARNING:tensorflow:Learning rate reduction is conditioned on metric `val_acc` which is not available. Available metrics are: loss,accuracy,val_loss,val_accuracy,lr\n",
            "Epoch 18/30\n",
            "1719/1719 [==============================] - 19s 11ms/step - loss: 0.0471 - accuracy: 0.9868 - val_loss: 0.0321 - val_accuracy: 0.9954\n",
            "WARNING:tensorflow:Learning rate reduction is conditioned on metric `val_acc` which is not available. Available metrics are: loss,accuracy,val_loss,val_accuracy,lr\n",
            "Epoch 19/30\n",
            "1719/1719 [==============================] - 18s 11ms/step - loss: 0.0420 - accuracy: 0.9888 - val_loss: 0.0269 - val_accuracy: 0.9928\n",
            "WARNING:tensorflow:Learning rate reduction is conditioned on metric `val_acc` which is not available. Available metrics are: loss,accuracy,val_loss,val_accuracy,lr\n",
            "Epoch 20/30\n",
            "1719/1719 [==============================] - 18s 11ms/step - loss: 0.0430 - accuracy: 0.9885 - val_loss: 0.0297 - val_accuracy: 0.9936\n",
            "WARNING:tensorflow:Learning rate reduction is conditioned on metric `val_acc` which is not available. Available metrics are: loss,accuracy,val_loss,val_accuracy,lr\n",
            "Epoch 21/30\n",
            "1719/1719 [==============================] - 19s 11ms/step - loss: 0.0457 - accuracy: 0.9877 - val_loss: 0.0309 - val_accuracy: 0.9914\n",
            "WARNING:tensorflow:Learning rate reduction is conditioned on metric `val_acc` which is not available. Available metrics are: loss,accuracy,val_loss,val_accuracy,lr\n",
            "Epoch 22/30\n",
            "1719/1719 [==============================] - 19s 11ms/step - loss: 0.0463 - accuracy: 0.9875 - val_loss: 0.0244 - val_accuracy: 0.9936\n",
            "WARNING:tensorflow:Learning rate reduction is conditioned on metric `val_acc` which is not available. Available metrics are: loss,accuracy,val_loss,val_accuracy,lr\n",
            "Epoch 23/30\n",
            "1719/1719 [==============================] - 19s 11ms/step - loss: 0.0439 - accuracy: 0.9886 - val_loss: 0.0394 - val_accuracy: 0.9908\n",
            "WARNING:tensorflow:Learning rate reduction is conditioned on metric `val_acc` which is not available. Available metrics are: loss,accuracy,val_loss,val_accuracy,lr\n",
            "Epoch 24/30\n",
            "1719/1719 [==============================] - 18s 11ms/step - loss: 0.0472 - accuracy: 0.9870 - val_loss: 0.0288 - val_accuracy: 0.9934\n",
            "WARNING:tensorflow:Learning rate reduction is conditioned on metric `val_acc` which is not available. Available metrics are: loss,accuracy,val_loss,val_accuracy,lr\n",
            "Epoch 25/30\n",
            "1719/1719 [==============================] - 19s 11ms/step - loss: 0.0470 - accuracy: 0.9871 - val_loss: 0.0335 - val_accuracy: 0.9932\n",
            "WARNING:tensorflow:Learning rate reduction is conditioned on metric `val_acc` which is not available. Available metrics are: loss,accuracy,val_loss,val_accuracy,lr\n",
            "Epoch 26/30\n",
            "1719/1719 [==============================] - 18s 11ms/step - loss: 0.0475 - accuracy: 0.9873 - val_loss: 0.0317 - val_accuracy: 0.9934\n",
            "WARNING:tensorflow:Learning rate reduction is conditioned on metric `val_acc` which is not available. Available metrics are: loss,accuracy,val_loss,val_accuracy,lr\n",
            "Epoch 27/30\n",
            "1719/1719 [==============================] - 19s 11ms/step - loss: 0.0464 - accuracy: 0.9877 - val_loss: 0.0265 - val_accuracy: 0.9942\n",
            "WARNING:tensorflow:Learning rate reduction is conditioned on metric `val_acc` which is not available. Available metrics are: loss,accuracy,val_loss,val_accuracy,lr\n",
            "Epoch 28/30\n",
            "1719/1719 [==============================] - 19s 11ms/step - loss: 0.0487 - accuracy: 0.9874 - val_loss: 0.0457 - val_accuracy: 0.9914\n",
            "WARNING:tensorflow:Learning rate reduction is conditioned on metric `val_acc` which is not available. Available metrics are: loss,accuracy,val_loss,val_accuracy,lr\n",
            "Epoch 29/30\n",
            "1719/1719 [==============================] - 19s 11ms/step - loss: 0.0498 - accuracy: 0.9875 - val_loss: 0.0290 - val_accuracy: 0.9936\n",
            "WARNING:tensorflow:Learning rate reduction is conditioned on metric `val_acc` which is not available. Available metrics are: loss,accuracy,val_loss,val_accuracy,lr\n",
            "Epoch 30/30\n",
            "1719/1719 [==============================] - 19s 11ms/step - loss: 0.0475 - accuracy: 0.9870 - val_loss: 0.0346 - val_accuracy: 0.9906\n",
            "WARNING:tensorflow:Learning rate reduction is conditioned on metric `val_acc` which is not available. Available metrics are: loss,accuracy,val_loss,val_accuracy,lr\n",
            "313/313 [==============================] - 1s 2ms/step - loss: 0.0292 - accuracy: 0.9913\n"
          ],
          "name": "stdout"
        },
        {
          "output_type": "execute_result",
          "data": {
            "text/plain": [
              "[0.029239634051918983, 0.9912999868392944]"
            ]
          },
          "metadata": {
            "tags": []
          },
          "execution_count": 7
        }
      ]
    },
    {
      "cell_type": "code",
      "metadata": {
        "id": "0OsESEwx9KiM",
        "colab": {
          "base_uri": "https://localhost:8080/"
        },
        "outputId": "5f9eb60c-afd1-4830-f7c0-62e83117af09"
      },
      "source": [
        "fr\n",
        "Normalization = keras.layers.experimental.preprocessing.Normalization()\n",
        "# normalization axis 1,2 wplywa katastrofalnie, przy tym każdy pixel w batchu ma swoją normalizację\n",
        "#normalization axis 3 powoduje, że wszystkie batche łącznie mają mu = 0 stdev =  1 \n",
        "Normalization.adapt(X_valid)\n",
        "#print(Normalization.mean)\n",
        "X_v = Normalization(X_valid)\n",
        "print(\"@@#@#\")\n",
        "print(np.mean(np.std(X_v, axis=0), axis=(0,1,2)))\n",
        "print(np.mean(X_valid, axis=(0,1,2)))\n"
      ],
      "execution_count": null,
      "outputs": [
        {
          "output_type": "error",
          "ename": "NameError",
          "evalue": "ignored",
          "traceback": [
            "\u001b[0;31m---------------------------------------------------------------------------\u001b[0m",
            "\u001b[0;31mNameError\u001b[0m                                 Traceback (most recent call last)",
            "\u001b[0;32m<ipython-input-8-113ccced655b>\u001b[0m in \u001b[0;36m<module>\u001b[0;34m()\u001b[0m\n\u001b[0;32m----> 1\u001b[0;31m \u001b[0mfr\u001b[0m\u001b[0;34m\u001b[0m\u001b[0;34m\u001b[0m\u001b[0m\n\u001b[0m\u001b[1;32m      2\u001b[0m \u001b[0mNormalization\u001b[0m \u001b[0;34m=\u001b[0m \u001b[0mkeras\u001b[0m\u001b[0;34m.\u001b[0m\u001b[0mlayers\u001b[0m\u001b[0;34m.\u001b[0m\u001b[0mexperimental\u001b[0m\u001b[0;34m.\u001b[0m\u001b[0mpreprocessing\u001b[0m\u001b[0;34m.\u001b[0m\u001b[0mNormalization\u001b[0m\u001b[0;34m(\u001b[0m\u001b[0;34m)\u001b[0m\u001b[0;34m\u001b[0m\u001b[0;34m\u001b[0m\u001b[0m\n\u001b[1;32m      3\u001b[0m \u001b[0;31m# normalization axis 1,2 wplywa katastrofalnie, przy tym każdy pixel w batchu ma swoją normalizację\u001b[0m\u001b[0;34m\u001b[0m\u001b[0;34m\u001b[0m\u001b[0;34m\u001b[0m\u001b[0m\n\u001b[1;32m      4\u001b[0m \u001b[0;31m#normalization axis 3 powoduje, że wszystkie batche łącznie mają mu = 0 stdev =  1\u001b[0m\u001b[0;34m\u001b[0m\u001b[0;34m\u001b[0m\u001b[0;34m\u001b[0m\u001b[0m\n\u001b[1;32m      5\u001b[0m \u001b[0mNormalization\u001b[0m\u001b[0;34m.\u001b[0m\u001b[0madapt\u001b[0m\u001b[0;34m(\u001b[0m\u001b[0mX_valid\u001b[0m\u001b[0;34m)\u001b[0m\u001b[0;34m\u001b[0m\u001b[0;34m\u001b[0m\u001b[0m\n",
            "\u001b[0;31mNameError\u001b[0m: name 'fr' is not defined"
          ]
        }
      ]
    },
    {
      "cell_type": "code",
      "metadata": {
        "id": "5nHVDHwF9_39"
      },
      "source": [
        "\n",
        "\"\"\"\n",
        "model = keras.models.Sequential([\n",
        "                                 Normalization(input),\n",
        "                                 Conv2D(32, 5, stride=1, padding=\"same\", activation=\"tanh\"),\n",
        "                                 Conv2D(64, 3, stride=1, padding=\"same\", activation=\"tanh\"),\n",
        "                                 MaxPool2D(),\n",
        "                                 Conv2D(128,2, stride=1, activation=\"tanh\", padding=\"same\"),\n",
        "                                 Conv2D(128,2, stride=1, activation=\"tanh\", padding=\"same\"),\n",
        "                                 MaxPool2D(),\n",
        "                                 Flatten(),\n",
        "                                 Dense(128, activation=\"selu\"),\n",
        "                                 Dropout(0.2),\n",
        "                                 Dense(64, activation=\"selu\"),\n",
        "                                 Dropout(0.4),\n",
        "                                 Dense(10, activation=\"softmax\")\n",
        "])\n",
        "\n",
        "\"\"\""
      ],
      "execution_count": null,
      "outputs": []
    },
    {
      "cell_type": "code",
      "metadata": {
        "id": "yoIgkPj7boVR"
      },
      "source": [
        "import sys\n",
        "import numpy as np\n",
        "np.set_printoptions(threshold=np.inf)\n",
        "np.set_printoptions(linewidth=2000)\n",
        "(X_train_full, y_train_full), (X_test, y_test) = keras.datasets.mnist.load_data()\n",
        "X_train, X_valid = X_train_full[:-5000], X_train_full[-5000:]\n",
        "y_train, y_valid = y_train_full[:-5000], y_train_full[-5000:]\n",
        "\n",
        "\n",
        "X_train = X_train[..., np.newaxis]\n",
        "X_valid = X_valid[..., np.newaxis]\n",
        "X_test = X_test[..., np.newaxis]\n",
        "#print(X_train[0])\n",
        "#print(X_valid[1])\n",
        "Normalization = keras.layers.experimental.preprocessing.Normalization(axis=(2,3))\n",
        "#(1,2) to po każdej komórce\n",
        "X_valid = X_valid[:2]\n",
        "print(X_valid[:,4,:])\n",
        "\n",
        "print(np.mean(X_valid, axis=(0,1)))\n",
        "\n",
        "\n",
        "Normalization.adapt(X_valid)\n",
        "\n",
        "print(Normalization(X_test[:2]))\n",
        "\n",
        "\n",
        "\n"
      ],
      "execution_count": null,
      "outputs": []
    },
    {
      "cell_type": "code",
      "metadata": {
        "id": "3oLLkgPEbo2t"
      },
      "source": [
        "\n",
        "input_data = np.array([[-1.41], [-0.70], [0.]], np.float32)\n",
        "print(np.mean(input_data))"
      ],
      "execution_count": null,
      "outputs": []
    },
    {
      "cell_type": "code",
      "metadata": {
        "id": "jR1T_Sgnd-7-"
      },
      "source": [
        "print(X_valid)"
      ],
      "execution_count": null,
      "outputs": []
    },
    {
      "cell_type": "code",
      "metadata": {
        "id": "PnBNWLC1exhK"
      },
      "source": [
        ""
      ],
      "execution_count": null,
      "outputs": []
    },
    {
      "cell_type": "code",
      "metadata": {
        "id": "gm0N3OYqqE8p"
      },
      "source": [
        "series = generate_time_series(10000, n_steps + 10)\n",
        "X_train, y_train = series[:7000, :n_steps], series[:7000, -10:, 0]\n",
        "X_valid, y_valid = series[7000:9000, :n_steps], series[7000:9000, -10, 0]\n",
        "X_test, y_test = series[9000:, :n_steps], series[9000:, -10, 0]\n",
        "\n",
        "\n",
        "model = keras.models.Sequential([\n",
        "                                 keras.layers.SimpleRNN(20, return_sequences=True, input_shape=[None,1]),\n",
        "                                 keras.layers.SimpleRNN(20),\n",
        "                                 keras.layers.Dense(10)\n",
        "])\n",
        "model.compile(loss=\"mse\", optimizer=\"nadam\")\n",
        "model.fit(X_train, y_train, validation_data=(X_valid, y_valid), epochs=20)\n",
        "\n",
        "X_new = series[:, :n_steps]\n",
        "Y_pred = model.predict(X_new)"
      ],
      "execution_count": null,
      "outputs": []
    }
  ]
}